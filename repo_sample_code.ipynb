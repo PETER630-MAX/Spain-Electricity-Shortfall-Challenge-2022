{
 "cells": [
  {
   "cell_type": "code",
   "execution_count": 3,
   "id": "dc54a971",
   "metadata": {},
   "outputs": [],
   "source": [
    "def member_great_team(*arg):\n",
    "    great_team = ('Joshua','Peter','Nana','Silindile','Ben','Daniel')\n",
    "    member_name = input()\n",
    "    if member_name in great_team:\n",
    "        return 'Welcome Great Explorer'\n",
    "    else:\n",
    "        return 'Not a member'\n",
    "    "
   ]
  },
  {
   "cell_type": "code",
   "execution_count": 4,
   "id": "502aef43",
   "metadata": {},
   "outputs": [
    {
     "name": "stdout",
     "output_type": "stream",
     "text": [
      "Joshua\n"
     ]
    },
    {
     "data": {
      "text/plain": [
       "'Welcome Great Explorer'"
      ]
     },
     "execution_count": 4,
     "metadata": {},
     "output_type": "execute_result"
    }
   ],
   "source": [
    "member_great_team()\n"
   ]
  },
  {
   "cell_type": "code",
   "execution_count": null,
   "id": "ee601ea7",
   "metadata": {},
   "outputs": [],
   "source": []
  }
 ],
 "metadata": {
  "kernelspec": {
   "display_name": "Python 3 (ipykernel)",
   "language": "python",
   "name": "python3"
  },
  "language_info": {
   "codemirror_mode": {
    "name": "ipython",
    "version": 3
   },
   "file_extension": ".py",
   "mimetype": "text/x-python",
   "name": "python",
   "nbconvert_exporter": "python",
   "pygments_lexer": "ipython3",
   "version": "3.9.7"
  }
 },
 "nbformat": 4,
 "nbformat_minor": 5
}
